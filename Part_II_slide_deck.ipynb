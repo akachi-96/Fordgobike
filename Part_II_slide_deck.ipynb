{
 "cells": [
  {
   "cell_type": "markdown",
   "metadata": {
    "slideshow": {
     "slide_type": "slide"
    }
   },
   "source": [
    "# Part II - Users of Ford Gobike System Data\n",
    "## by (Akachukwu Ordu)"
   ]
  },
  {
   "cell_type": "markdown",
   "metadata": {
    "slideshow": {
     "slide_type": "slide"
    }
   },
   "source": [
    "## Investigation Overview\n",
    "\n",
    "We are learning about the users of the ford Gobike to help serve them better. taking note that time and days of the week show that a high number of our users are working class. \n",
    "\n",
    "\n",
    "\n",
    "## Dataset Overview\n",
    "\n",
    "A data set of users of Gobike with 16 attributes that informs us of the users of this service."
   ]
  },
  {
   "cell_type": "code",
   "execution_count": 1,
   "metadata": {
    "slideshow": {
     "slide_type": "skip"
    }
   },
   "outputs": [],
   "source": [
    "# import all packages and set plots to be embedded inline\n",
    "import numpy as np\n",
    "import pandas as pd \n",
    "from datetime import datetime\n",
    "import matplotlib.pyplot as plt\n",
    "%matplotlib inline\n",
    "import seaborn as sb\n",
    "import calendar\n",
    "\n",
    "# suppress warnings from final output\n",
    "import warnings\n",
    "warnings.simplefilter(\"ignore\")"
   ]
  },
  {
   "cell_type": "code",
   "execution_count": 2,
   "metadata": {
    "slideshow": {
     "slide_type": "skip"
    }
   },
   "outputs": [],
   "source": [
    "# load in the dataset into a pandas dataframe\n",
    "gb = pd.read_csv('201902-Fordgobike-Tripdata.csv')"
   ]
  },
  {
   "cell_type": "code",
   "execution_count": 3,
   "metadata": {
    "slideshow": {
     "slide_type": "skip"
    }
   },
   "outputs": [
    {
     "data": {
      "text/plain": [
       "duration_sec               0\n",
       "start_time                 0\n",
       "end_time                   0\n",
       "start_station_id           0\n",
       "start_station_name         0\n",
       "start_station_latitude     0\n",
       "start_station_longitude    0\n",
       "end_station_id             0\n",
       "end_station_name           0\n",
       "end_station_latitude       0\n",
       "end_station_longitude      0\n",
       "bike_id                    0\n",
       "user_type                  0\n",
       "member_birth_year          0\n",
       "member_gender              0\n",
       "bike_share_for_all_trip    0\n",
       "dtype: int64"
      ]
     },
     "execution_count": 3,
     "metadata": {},
     "output_type": "execute_result"
    }
   ],
   "source": [
    "# copy of data frame \n",
    "fgb = gb\n",
    "\n",
    "# elemenate the NAN Values \n",
    "fgb = fgb.dropna()\n",
    "\n",
    "# Testing \n",
    "fgb.isnull().sum()"
   ]
  },
  {
   "cell_type": "code",
   "execution_count": 4,
   "metadata": {
    "slideshow": {
     "slide_type": "skip"
    }
   },
   "outputs": [],
   "source": [
    "# Create duration_in_minute variable\n",
    "fgb[\"duration_in_minute\"] = round(fgb.duration_sec/60,2)\n",
    "\n",
    "#extract the value of start hour and end hour from start_time\n",
    "fgb['start_hour']= pd.DatetimeIndex(fgb['start_time']).hour\n",
    "\n",
    "#extract the value of start hour and end hour from start_time\n",
    "fgb['end_hour']= pd.DatetimeIndex(fgb['end_time']).hour\n",
    "\n",
    "#extact age of the rider using birth year column\n",
    "now = datetime.now()\n",
    "fgb['age'] = now.year - fgb['member_birth_year']\n",
    "fgb['age'] = fgb.age.fillna(0.0).astype(int)"
   ]
  },
  {
   "cell_type": "code",
   "execution_count": 5,
   "metadata": {
    "slideshow": {
     "slide_type": "skip"
    }
   },
   "outputs": [],
   "source": [
    "# changing the start_time and end_time to date instead of integer \n",
    "fgb.start_time = pd.to_datetime(fgb.start_time)\n",
    "\n",
    "fgb.end_time = pd.to_datetime(fgb.end_time)\n",
    "\n",
    "# extract the day from start_time and adding the day_column\n",
    "fgb['day'] = fgb.start_time.dt.dayofweek "
   ]
  },
  {
   "cell_type": "code",
   "execution_count": 6,
   "metadata": {
    "slideshow": {
     "slide_type": "skip"
    }
   },
   "outputs": [],
   "source": [
    "#replacing the days in numbers to string week days \n",
    "fgb.day.replace([0,1,2,3,4,5,6],[\"monday\",\"tuesday\",\"wednesday\",\"thursday\",\"friday\",\"saturday\",\"sunday\"],inplace=True)"
   ]
  },
  {
   "cell_type": "code",
   "execution_count": 7,
   "metadata": {
    "slideshow": {
     "slide_type": "skip"
    }
   },
   "outputs": [],
   "source": [
    "# convert into ordered categorical types\n",
    "\n",
    "ordinal_var_dict = {'day': ['Monday','Tuesday','Wednesday','Thursday','Friday','Saturday','Sunday']}\n",
    "\n",
    "for var in ordinal_var_dict:\n",
    "    ordered_var = pd.api.types.CategoricalDtype(ordered = True,\n",
    "                                                categories = ordinal_var_dict[var])\n",
    "    fgb[var] = fgb[var].astype(ordered_var)"
   ]
  },
  {
   "cell_type": "markdown",
   "metadata": {
    "slideshow": {
     "slide_type": "slide"
    }
   },
   "source": [
    "## Gender distribution and Duration of bike usage in minutes\n",
    "This explains the time taken on single trips on the bike broken down into gender.\n"
   ]
  },
  {
   "cell_type": "code",
   "execution_count": 8,
   "metadata": {
    "slideshow": {
     "slide_type": "skip"
    }
   },
   "outputs": [
    {
     "data": {
      "image/png": "[encoded data removed]",
      "text/plain": [
       "<Figure size 864x288 with 3 Axes>"
      ]
     },
     "metadata": {
      "needs_background": "light"
     },
     "output_type": "display_data"
    }
   ],
   "source": [
    "# using facetting for plotting the distribution of duration of each gender\n",
    "tick = list(range(81))\n",
    "g = sb.FacetGrid(data = fgb, col = 'member_gender', height = 4)\n",
    "g.map(plt.hist, 'duration_in_minute', bins = 400)\n",
    "plt.xlim((0,80))\n",
    "plt.xticks(tick[::5])\n",
    "g.set_xlabels('Duration (minute)')\n",
    "g.set_ylabels('Count')\n",
    "plt.suptitle(\"Distribution of Duration(minutes) Per Gender\".title(),y=1, fontsize = 14, weight = \"bold\");\n",
    "\n",
    "plt.show()"
   ]
  },
  {
   "cell_type": "markdown",
   "metadata": {
    "collapsed": true,
    "slideshow": {
     "slide_type": "slide"
    }
   },
   "source": [
    "## Age range of users\n",
    "- You see that majority of our users are between the ages 25 and 45 years of age. which a histogram graph explains clearly.\n",
    "\n"
   ]
  },
  {
   "cell_type": "code",
   "execution_count": 9,
   "metadata": {
    "slideshow": {
     "slide_type": "skip"
    }
   },
   "outputs": [
    {
     "data": {
      "image/png": "[encoded data removed]",
      "text/plain": [
       "<Figure size 864x288 with 3 Axes>"
      ]
     },
     "metadata": {
      "needs_background": "light"
     },
     "output_type": "display_data"
    }
   ],
   "source": [
    "tick = list(range(81))\n",
    "g = sb.FacetGrid(data = fgb, col = 'member_gender', height = 4)\n",
    "g.map(plt.hist, 'age', bins = 400)\n",
    "plt.xlim((0,80))\n",
    "plt.xticks(tick[::5])\n",
    "g.set_xlabels('Age')\n",
    "g.set_ylabels('Count')\n",
    "plt.suptitle(\"Age Distribution Per Gender\".title(),y=1, fontsize = 14, weight = \"bold\");\n",
    "plt.show()"
   ]
  },
  {
   "cell_type": "markdown",
   "metadata": {
    "slideshow": {
     "slide_type": "slide"
    }
   },
   "source": [
    "## What Time of Day are the bikes most used\n",
    "Below you would see the hours the bikes are used the most which is 8am and 5pm. Which makes its safe to say they go to work with the bike and use it to get back home as well.\n",
    "\n"
   ]
  },
  {
   "cell_type": "code",
   "execution_count": 29,
   "metadata": {
    "slideshow": {
     "slide_type": "skip"
    }
   },
   "outputs": [
    {
     "data": {
      "image/png": "[encoded data removed]",
      "text/plain": [
       "<Figure size 432x288 with 1 Axes>"
      ]
     },
     "metadata": {
      "needs_background": "light"
     },
     "output_type": "display_data"
    }
   ],
   "source": [
    "#plotting the day hours distribution\n",
    "basic = sb.color_palette()[3]\n",
    "\n",
    "sb.countplot(data=fgb, x='start_hour', color= basic);\n",
    "g.set_xlabels('Start Hour')\n",
    "g.set_ylabels('Count')\n",
    "plt.suptitle(\"Start Hour Distribution\".title(),y=1, fontsize = 14, weight = \"bold\");\n",
    "plt.show()"
   ]
  },
  {
   "cell_type": "code",
   "execution_count": null,
   "metadata": {
    "slideshow": {
     "slide_type": "skip"
    }
   },
   "outputs": [],
   "source": [
    "!jupyter nbconvert Part_II_slide_deck_template.ipynb --to slides --post serve --no-input --no-prompt"
   ]
  }
 ],
 "metadata": {
  "celltoolbar": "Slideshow",
  "kernelspec": {
   "display_name": "Python 3",
   "language": "python",
   "name": "python3"
  },
  "language_info": {
   "codemirror_mode": {
    "name": "ipython",
    "version": 3
   },
   "file_extension": ".py",
   "mimetype": "text/x-python",
   "name": "python",
   "nbconvert_exporter": "python",
   "pygments_lexer": "ipython3",
   "version": "3.8.8"
  }
 },
 "nbformat": 4,
 "nbformat_minor": 2
}
